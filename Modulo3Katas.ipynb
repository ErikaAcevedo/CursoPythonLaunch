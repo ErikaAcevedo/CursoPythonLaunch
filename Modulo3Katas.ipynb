{
 "cells": [
  {
   "cell_type": "markdown",
   "metadata": {},
   "source": [
    "Para este ejercicio, escribirás una lógica condicional que imprima una advertencia si un asteroide se acerca a la Tierra demasiado rápido. La velocidad del asteroide varía dependiendo de lo cerca que esté del sol, y cualquier velocidad superior a 25 kilómetros por segundo (km/s) merece una advertencia.\n",
    "\n",
    "## Un asteroide se acerca, y viaja a una velocidad de 49 km/s."
   ]
  },
  {
   "cell_type": "code",
   "execution_count": 2,
   "metadata": {},
   "outputs": [
    {
     "name": "stdout",
     "output_type": "stream",
     "text": [
      " Advertencia, un asteroide se acerca a la Tierra demasiado rápido.\n"
     ]
    }
   ],
   "source": [
    "v_asteroide= 49 #km/s\n",
    "\n",
    "\n",
    "if v_asteroide > 25:\n",
    "    print(\" ¡Advertencia!, un asteroide se acerca a la Tierra demasiado rápido.\")\n",
    "else:\n",
    "    print(\"Todo esta bien, continue\")"
   ]
  },
  {
   "cell_type": "markdown",
   "metadata": {},
   "source": [
    " Si un asteroide entra en la atmósfera de la Tierra a una velocidad mayor o igual a 20 km/s, a veces produce un rayo de luz que se puede ver desde la Tierra. Escribe la lógica condicional que usa declaraciones if, else, y elif para alertar a las personas de todo el mundo que deben buscar un asteroide en el cielo. ¡Hay uno que se dirige a la tierra ahora a una velocidad de 19 km/s!"
   ]
  },
  {
   "cell_type": "code",
   "execution_count": 8,
   "metadata": {},
   "outputs": [
    {
     "name": "stdout",
     "output_type": "stream",
     "text": [
      "¡No hay nada que observar!\n"
     ]
    }
   ],
   "source": [
    "velocidad_aste= 19\n",
    "\n",
    "if velocidad_aste > 20:\n",
    "        print('¡ATENTOS!, ¡hay un gran rayo de luz en el cielo!')\n",
    "elif velocidad_aste == 20:\n",
    "        print('¡ATENTOS!, ¡hay un gran rayo de luz en el cielo!')\n",
    "else:\n",
    "    print('¡No hay nada que observar!')"
   ]
  },
  {
   "cell_type": "code",
   "execution_count": 9,
   "metadata": {},
   "outputs": [
    {
     "name": "stdout",
     "output_type": "stream",
     "text": [
      "¡ATENTOS!, ¡hay un gran rayo de luz en el cielo!\n"
     ]
    }
   ],
   "source": [
    "# Agrega el código para crear nuevas variables para la velocidad y el tamaño del asteroide\n",
    "# Para probar el código, prueba con varias velocidades y tamaños\n",
    "# Escribe varias expresiones de prueba o combinaciones de expresiones de prueba para determinar qué mensaje se debe enviar a Tierra.\n",
    "\n",
    "velocidad_asteroide = 25\n",
    "tam_asteroide = 40\n",
    "if velocidad_asteroide > 25 and (tam_asteroide > 25 and tam_asteroide < 1000):\n",
    "    print(\"¡CUIDADO!, un asteroide golpeara la Tierra, causara mucho daño\")\n",
    "elif velocidad_asteroide >= 20:\n",
    "    print('¡ATENTOS!, ¡hay un gran rayo de luz en el cielo!')\n",
    "elif tam_asteroide < 25:\n",
    "    print('¡No hay nada que observar!')\n",
    "else:\n",
    "    print('¡No hay nada que observar!')\n",
    "\n"
   ]
  },
  {
   "cell_type": "code",
   "execution_count": null,
   "metadata": {},
   "outputs": [],
   "source": [
    "\n",
    "   \n"
   ]
  }
 ],
 "metadata": {
  "interpreter": {
   "hash": "3e1ae163af93b55587fd23561f82eafe0afc4db7dfe16155fc503beb28e7c263"
  },
  "kernelspec": {
   "display_name": "Python 3.10.2 64-bit",
   "language": "python",
   "name": "python3"
  },
  "language_info": {
   "codemirror_mode": {
    "name": "ipython",
    "version": 3
   },
   "file_extension": ".py",
   "mimetype": "text/x-python",
   "name": "python",
   "nbconvert_exporter": "python",
   "pygments_lexer": "ipython3",
   "version": "3.10.2"
  },
  "orig_nbformat": 4
 },
 "nbformat": 4,
 "nbformat_minor": 2
}
