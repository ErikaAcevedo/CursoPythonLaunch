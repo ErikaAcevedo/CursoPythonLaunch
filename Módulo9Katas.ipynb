{
  "cells": [
    {
      "cell_type": "markdown",
      "metadata": {},
      "source": [
        "# Ejercicio: Uso de funciones en Python"
      ]
    },
    {
      "cell_type": "markdown",
      "metadata": {},
      "source": [
        "### Ejercicio 1: Trabajar con argumentos en funciones\n",
        "\n",
        "Los argumentos requeridos en las funciones se utilizan cuando las funciones necesitan que esos argumentos funcionen correctamente. En este ejercicio, construirás un informe de combustible que requiere información de varias ubicaciones de combustible en todo el cohete.\n",
        "\n"
      ]
    },
    {
      "cell_type": "markdown",
      "metadata": {},
      "source": [
        "> **TIP**\n",
        "> Dedica unos minutos para tratar de encontrar una solución. Luego desplázate hacia abajo hasta la parte inferior para ver si has logrado compilar el programa de acuerdo con las especificaciones\n",
        "\n",
        "Comienza por crear una función que necesite tres lecturas de combustible y devuelva un informe:"
      ]
    },
    {
      "cell_type": "code",
      "execution_count": 4,
      "metadata": {},
      "outputs": [],
      "source": [
        "# Función para leer 3 tanques de combustible y muestre el promedio\n",
        "def funcion_combustible(t1,t2,t3):\n",
        "    prom= (t1+t2+t3)/3\n",
        "    return  f\"\"\" Reporte:\n",
        "    Total: {prom}%\n",
        "    Primer_tanque: {t1}%\n",
        "    Segundo_tanque: {t2}%\n",
        "    Tercer_tanque: {t3}% \n",
        "    \"\"\""
      ]
    },
    {
      "cell_type": "markdown",
      "metadata": {},
      "source": [
        "Ahora que hemos definido la función de informes, vamos a comprobarlo. Para esta misión, los tanques no están llenos:"
      ]
    },
    {
      "cell_type": "code",
      "execution_count": 5,
      "metadata": {},
      "outputs": [
        {
          "name": "stdout",
          "output_type": "stream",
          "text": [
            " Reporte:\n",
            "    Total: 67.66666666666667%\n",
            "    Primer_tanque: 50%\n",
            "    Segundo_tanque: 67%\n",
            "    Tercer_tanque: 86% \n",
            "    \n"
          ]
        }
      ],
      "source": [
        "\n",
        "# Llamamos a la función que genera el reporte print(funcion(tanque1, tanque2, tanque3))\n",
        "print(funcion_combustible(50,67,86))"
      ]
    },
    {
      "cell_type": "markdown",
      "metadata": {},
      "source": [
        "En lugar de simplemente crear el informe, la función también está calculando el promedio. Mejora la legibilidad extrayendo el cálculo promedio de la función en una nueva función para que el promedio se pueda hacer de forma independiente:"
      ]
    },
    {
      "cell_type": "code",
      "execution_count": 6,
      "metadata": {},
      "outputs": [],
      "source": [
        "# Función promedio \n",
        "def promedio(valores):\n",
        "    total = sum(valores)\n",
        "    numero_de_valores = len(valores)\n",
        "    prom= total/numero_de_valores\n",
        "    return prom"
      ]
    },
    {
      "cell_type": "code",
      "execution_count": 8,
      "metadata": {},
      "outputs": [
        {
          "data": {
            "text/plain": [
              "67.0"
            ]
          },
          "execution_count": 8,
          "metadata": {},
          "output_type": "execute_result"
        }
      ],
      "source": [
        "promedio([89,65,47])"
      ]
    },
    {
      "cell_type": "markdown",
      "metadata": {},
      "source": [
        "Ahora actualiza la función de informes para llamando a la nueva función del promedio:\n"
      ]
    },
    {
      "cell_type": "code",
      "execution_count": 10,
      "metadata": {},
      "outputs": [
        {
          "name": "stdout",
          "output_type": "stream",
          "text": [
            " Reporte:\n",
            "    Total: 67.66666666666667%\n",
            "    Primer_tanque: 50%\n",
            "    Segundo_tanque: 67%\n",
            "    Tercer_tanque: 86% \n",
            "    \n"
          ]
        }
      ],
      "source": [
        "# Actualiza la función\n",
        "def upd_funcion_combustible(t1,t2,t3):\n",
        "    prom= promedio([t1,t2,t3])\n",
        "    return  f\"\"\" Reporte:\n",
        "    Total: {prom}%\n",
        "    Primer_tanque: {t1}%\n",
        "    Segundo_tanque: {t2}%\n",
        "    Tercer_tanque: {t3}% \n",
        "    \"\"\"\n",
        "print(upd_funcion_combustible(50,67,86))"
      ]
    },
    {
      "cell_type": "markdown",
      "metadata": {},
      "source": [
        "> Recuerda: Lo importante es intentarlo, puedes auxiliarte de internet, libros, etc. El objetivo de una kata es la comprobación de la comprensión de la lección y su aplicación inmediata a la resolución de problemas. Go for it!"
      ]
    },
    {
      "cell_type": "markdown",
      "metadata": {},
      "source": [
        "## Ejercicio 2: Trabajo con argumentos de palabra clave"
      ]
    },
    {
      "cell_type": "markdown",
      "metadata": {},
      "source": [
        "### Ejercicio : Trabajar con argumentos de palabras clave en funciones\n",
        "En este ejercicio, construirás un informe de cohete que requiere varias piezas de información, como el tiempo hasta el destino, el combustible a la izquierda y el nombre del destino. Comienza por crear una función que creará un informe preciso de la misión:"
      ]
    },
    {
      "cell_type": "code",
      "execution_count": 12,
      "metadata": {},
      "outputs": [
        {
          "name": "stdout",
          "output_type": "stream",
          "text": [
            " Reporte:\n",
            "    lugar: Marte\n",
            "    Tiempo-destino: 75 min\n",
            "    Combustible-izq: 136000 litros\n",
            "    \n"
          ]
        }
      ],
      "source": [
        "# Función con un informe preciso de la misión. Considera hora de prelanzamiento, tiempo de vuelo, destino, tanque externo y tanque interno\n",
        "def inf_cohete(hr_prelanzamiento,t_vuelo,destino,t_externo,t_interno):\n",
        "    return  f\"\"\" Reporte:\n",
        "    lugar: {destino}\n",
        "    Tiempo-destino: {hr_prelanzamiento + t_vuelo} min\n",
        "    Combustible-izq: {t_interno + t_externo} litros\n",
        "    \"\"\"\n",
        "print(inf_cohete(8,67,'Marte',86000,50000))"
      ]
    },
    {
      "cell_type": "markdown",
      "metadata": {},
      "source": [
        "La función es problemática porque no se puede adaptar para minutos adicionales o tanques adicionales de combustible. Hazlo más flexible permitiendo cualquier número de pasos basados en el tiempo y cualquier número de tanques. En lugar de usar `*args` y `**kwargs`, aprovecha el hecho de que puedes usar cualquier nombre que desees. Asegurate que la función sea más legible mediante el uso de nombres de variables que están asociados con las entradas, como `*minutes` y `**fuel_reservoirs`:"
      ]
    },
    {
      "cell_type": "code",
      "execution_count": 27,
      "metadata": {},
      "outputs": [
        {
          "name": "stdout",
          "output_type": "stream",
          "text": [
            " Reporte:\n",
            "    lugar: Marte\n",
            "    Total_tiempo-destino: 86 min\n",
            "    total_Combustible: 230000000 \n",
            "    \n"
          ]
        }
      ],
      "source": [
        "# Escribe tu nueva función de reporte considerando lo anterior\n",
        "def inf_cohete(destino, *minutes, **fuel_reservoirs):\n",
        "    return  f\"\"\" Reporte:\n",
        "    lugar: {destino}\n",
        "    Total_tiempo-destino: {sum(minutes)} min\n",
        "    total_Combustible: {sum(fuel_reservoirs.values())} \n",
        "    \"\"\"\n",
        "print(inf_cohete('Marte',20,18,48, main=30000000, external=200000000))"
      ]
    },
    {
      "cell_type": "markdown",
      "metadata": {},
      "source": [
        "Debido a que el combustible que queda en los tanques es específico de cada tanque, actualiza la función para usar el nombre de cada tanque en el informe:"
      ]
    },
    {
      "cell_type": "code",
      "execution_count": 31,
      "metadata": {},
      "outputs": [
        {
          "name": "stdout",
          "output_type": "stream",
          "text": [
            " Reporte:\n",
            "    lugar: Moon\n",
            "    Total_tiempo-destino: 74 min\n",
            "    total_Combustible: 2300000 \n",
            "    main tank --> 300000 gallons left\n",
            "external tank --> 2000000 gallons left\n",
            "\n"
          ]
        }
      ],
      "source": [
        "# Escribe tu nueva función\n",
        "def reporte_cohete(destino, *minutes, **fuel_reservoirs):\n",
        "    reporte=  f\"\"\" Reporte:\n",
        "    lugar: {destino}\n",
        "    Total_tiempo-destino: {sum(minutes)} min\n",
        "    total_Combustible: {sum(fuel_reservoirs.values())} \n",
        "    \"\"\"\n",
        "    for tanque, gallons in fuel_reservoirs.items():\n",
        "        reporte += f\"{tanque} tank --> {gallons} gallons left\\n\"\n",
        "    return reporte\n",
        "\n",
        "print(reporte_cohete(\"Moon\", 8, 11, 55, main=300000, external=2000000))"
      ]
    }
  ],
  "metadata": {
    "interpreter": {
      "hash": "205095b8b86ea82a021a8fc2ffba2b3bc9f8d0be25999901963b225939f75778"
    },
    "kernelspec": {
      "display_name": "Python 3.8.10 64-bit ('tmp': conda)",
      "name": "python3"
    },
    "language_info": {
      "codemirror_mode": {
        "name": "ipython",
        "version": 3
      },
      "file_extension": ".py",
      "mimetype": "text/x-python",
      "name": "python",
      "nbconvert_exporter": "python",
      "pygments_lexer": "ipython3",
      "version": "3.10.2"
    },
    "nteract": {
      "version": "nteract-front-end@1.0.0"
    },
    "orig_nbformat": 4
  },
  "nbformat": 4,
  "nbformat_minor": 2
}
